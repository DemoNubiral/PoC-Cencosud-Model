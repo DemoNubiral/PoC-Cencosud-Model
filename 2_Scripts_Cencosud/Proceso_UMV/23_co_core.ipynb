{
 "cells": [
  {
   "cell_type": "code",
   "execution_count": 1,
   "id": "db2b7244-dbf3-471b-96a2-1b22f0cfac6a",
   "metadata": {},
   "outputs": [
    {
     "name": "stdout",
     "output_type": "stream",
     "text": [
      "Dotenv installed\n",
      "Loaded variables .env True\n",
      "Pyspark installed\n",
      "JAVA:  /usr/lib/jvm/temurin-8-jdk-amd64\n",
      "DATAPROC:  True\n",
      "Current GCP Project Name: cencosudx\n",
      "Current ENVIRONMENT: staging\n"
     ]
    }
   ],
   "source": [
    "import os\n",
    "from datetime import datetime\n",
    "import pyspark.sql.functions as F\n",
    "from gcpspark import *"
   ]
  },
  {
   "cell_type": "code",
   "execution_count": 2,
   "id": "e30bb7f9-92c4-46b3-ae81-5dfdb251b90a",
   "metadata": {},
   "outputs": [],
   "source": [
    "import pandas as pd\n",
    "pd.set_option('display.max_rows', 500)\n",
    "pd.set_option('display.max_columns', 500)\n",
    "pd.set_option('display.width', 1000)"
   ]
  },
  {
   "cell_type": "code",
   "execution_count": 3,
   "id": "22ebcb86-cb5f-4bd7-b80c-5bfbe869f926",
   "metadata": {},
   "outputs": [],
   "source": [
    "ENV = os.environ[\"ENVIRONMENT\"]"
   ]
  },
  {
   "cell_type": "code",
   "execution_count": 4,
   "id": "64ac79fc-aecd-403d-83a4-1e1dc31f31bd",
   "metadata": {},
   "outputs": [],
   "source": [
    "dataset_id = 'data_analytics_default'\n",
    "table_id = 'BQ_CO_SM_UMV_01'\n",
    "\n",
    "stock_table_id = 'BQ_CO_SM_STOCK_01'\n",
    "master_active_table_id = 'BQ_CO_SM_ACTIVE_01'\n"
   ]
  },
  {
   "cell_type": "code",
   "execution_count": null,
   "id": "be4f2b0d-8256-432e-9328-f6cb85c0f6d5",
   "metadata": {
    "tags": []
   },
   "outputs": [],
   "source": [
    "spark = create_pyspark(name=\"col-stock-umv\",connection=\"gcp\")"
   ]
  },
  {
   "cell_type": "code",
   "execution_count": 6,
   "id": "400dd502-c82c-4c2f-9313-e2d56ee3f025",
   "metadata": {},
   "outputs": [
    {
     "name": "stdout",
     "output_type": "stream",
     "text": [
      "root\n",
      " |-- LOCAL_ID: string (nullable = true)\n",
      " |-- ITEM_ID: string (nullable = true)\n",
      " |-- EAN: string (nullable = true)\n",
      " |-- DATE: date (nullable = true)\n",
      " |-- DAY: string (nullable = true)\n",
      " |-- WEEK_DAY: long (nullable = true)\n",
      " |-- FORECAST: long (nullable = true)\n",
      " |-- UMV: long (nullable = true)\n",
      " |-- MAPE: long (nullable = true)\n",
      " |-- MODEL: string (nullable = true)\n",
      "\n"
     ]
    }
   ],
   "source": [
    "umv_df = (\n",
    "    spark.read.format(\"bigquery\")\n",
    "    .option(\"table\", f\"{dataset_id}.{table_id}\")\n",
    "    .load()\n",
    ")\n",
    "umv_df = umv_df.drop(\"_PARTITIONTIME\", \"_PARTITIONDATE\")\n",
    "umv_df = umv_df.distinct()\n",
    "umv_df.printSchema()"
   ]
  },
  {
   "cell_type": "code",
   "execution_count": 7,
   "id": "a3b0904f-d983-4e6e-9708-a0b078e5620b",
   "metadata": {},
   "outputs": [
    {
     "name": "stderr",
     "output_type": "stream",
     "text": [
      "                                                                                \r"
     ]
    },
    {
     "name": "stdout",
     "output_type": "stream",
     "text": [
      "         DATE  count\n",
      "0  2023-11-26   6237\n",
      "1  2023-11-25   7364\n",
      "2  2023-11-24   4540\n",
      "3  2023-11-23   4576\n",
      "4  2023-11-22   4796\n",
      "5  2023-11-21   4957\n",
      "6  2023-11-20   5826\n",
      "7  2023-11-19   2598\n",
      "8  2023-11-18   2978\n",
      "9  2023-11-17   1462\n"
     ]
    }
   ],
   "source": [
    "print(display(umv_df.groupby(\"DATE\").count().orderBy(F.col(\"DATE\").desc())))"
   ]
  },
  {
   "cell_type": "code",
   "execution_count": 19,
   "id": "f997203a-909d-498d-a586-7104fd5e6479",
   "metadata": {},
   "outputs": [
    {
     "name": "stdout",
     "output_type": "stream",
     "text": [
      "  LOCAL_ID  ITEM_ID   EAN        DATE     DAY  WEEK_DAY  FORECAST  UMV  MAPE    MODEL\n",
      "0       76  0011567   116  2023-11-21  MARTES         3        54   38    25  PROPHET\n",
      "1       42  0011567   116  2023-11-21  MARTES         3        44   28    26  SARIMAX\n",
      "2      191  0002670   659  2023-11-21  MARTES         3        41   26    24  PROPHET\n",
      "3       23  0248978  1991  2023-11-21  MARTES         3         7    1    16  SARIMAX\n",
      "4       87  0752396  3940  2023-11-21  MARTES         3        79   70    15    ARIMA\n"
     ]
    }
   ],
   "source": [
    "print(display(umv_df,5))"
   ]
  },
  {
   "cell_type": "code",
   "execution_count": 8,
   "id": "c31e27cc-25ff-4870-8e42-ea80ff5fabce",
   "metadata": {},
   "outputs": [
    {
     "name": "stdout",
     "output_type": "stream",
     "text": [
      "root\n",
      " |-- tienda_stock: string (nullable = true)\n",
      " |-- sku_stock: string (nullable = true)\n",
      " |-- ean_stock: string (nullable = true)\n",
      " |-- unidades_stock: double (nullable = true)\n",
      "\n"
     ]
    }
   ],
   "source": [
    "stock_df = (\n",
    "    spark.read.format(\"bigquery\")\n",
    "    .option(\"table\", f\"{dataset_id}.{stock_table_id}\")\n",
    "    .load()\n",
    ")\n",
    "stock_df = stock_df.distinct()\n",
    "stock_df = stock_df.drop(\"_PARTITIONTIME\", \"_PARTITIONDATE\",\"fecha_stock\")\n",
    "stock_df.printSchema()"
   ]
  },
  {
   "cell_type": "code",
   "execution_count": 9,
   "id": "50f78cc0-3b6c-44a8-ae5c-8ad9e2464c38",
   "metadata": {},
   "outputs": [
    {
     "name": "stderr",
     "output_type": "stream",
     "text": [
      "[Stage 6:>                                                          (0 + 1) / 1]\r"
     ]
    },
    {
     "name": "stdout",
     "output_type": "stream",
     "text": [
      "  tienda_stock sku_stock      ean_stock  unidades_stock\n",
      "0          105   3417356  7702189056160            54.0\n",
      "1          248   3578854  7702004111142            40.0\n",
      "2          249   0296274  7702425524828            64.0\n",
      "3          249   3453039  7702535028186            36.0\n",
      "4           56   1666085   645667183583          2000.0\n"
     ]
    },
    {
     "name": "stderr",
     "output_type": "stream",
     "text": [
      "                                                                                \r"
     ]
    }
   ],
   "source": [
    "print(display(stock_df,5))"
   ]
  },
  {
   "cell_type": "code",
   "execution_count": 10,
   "id": "450f14bb-40d4-47d6-a122-36ca79fa4a9b",
   "metadata": {},
   "outputs": [
    {
     "name": "stdout",
     "output_type": "stream",
     "text": [
      "root\n",
      " |-- sku_stock: string (nullable = true)\n",
      " |-- ean_stock: string (nullable = true)\n",
      " |-- tienda_stock: string (nullable = true)\n",
      "\n"
     ]
    }
   ],
   "source": [
    "active_df = (\n",
    "    spark.read.format(\"bigquery\")\n",
    "    .option(\"table\", f\"{dataset_id}.{master_active_table_id}\")\n",
    "    .load()\n",
    ")\n",
    "active_df = active_df.distinct()\n",
    "active_df = active_df.drop(\"_PARTITIONTIME\", \"_PARTITIONDATE\")\n",
    "active_df.printSchema()"
   ]
  },
  {
   "cell_type": "code",
   "execution_count": 11,
   "id": "16a0842c-167c-45e6-ad9b-e94fa4157106",
   "metadata": {},
   "outputs": [
    {
     "name": "stderr",
     "output_type": "stream",
     "text": [
      "[Stage 11:>                                                         (0 + 1) / 1]\r"
     ]
    },
    {
     "name": "stdout",
     "output_type": "stream",
     "text": [
      "  sku_stock      ean_stock tienda_stock\n",
      "0   0000019        2400011           85\n",
      "1   0000102  7702277500025           24\n",
      "2   0000251  7701018007519           45\n",
      "3   0000541             86           38\n",
      "4   0001792  7702450022214           13\n"
     ]
    },
    {
     "name": "stderr",
     "output_type": "stream",
     "text": [
      "                                                                                \r"
     ]
    }
   ],
   "source": [
    "print(display(active_df,5))"
   ]
  },
  {
   "cell_type": "markdown",
   "id": "79730381-f04a-4a91-be53-7887771448c1",
   "metadata": {},
   "source": [
    "# Filter items with no stock or lower than umv"
   ]
  },
  {
   "cell_type": "code",
   "execution_count": 12,
   "id": "21edae53-8767-40de-aa7a-34b76d26ae43",
   "metadata": {},
   "outputs": [
    {
     "name": "stderr",
     "output_type": "stream",
     "text": [
      "                                                                                \r"
     ]
    },
    {
     "name": "stdout",
     "output_type": "stream",
     "text": [
      "#stocks filtered:  2241452\n"
     ]
    },
    {
     "name": "stderr",
     "output_type": "stream",
     "text": [
      "[Stage 18:>                                                         (0 + 1) / 1]\r"
     ]
    },
    {
     "name": "stdout",
     "output_type": "stream",
     "text": [
      "# umv:  248639\n"
     ]
    },
    {
     "name": "stderr",
     "output_type": "stream",
     "text": [
      "                                                                                \r"
     ]
    }
   ],
   "source": [
    "print(\"#stocks filtered: \",stock_df.count())\n",
    "print(\"# umv: \",umv_df.count())"
   ]
  },
  {
   "cell_type": "code",
   "execution_count": 13,
   "id": "2c1c4092-8ddf-4ac3-83bc-1fa53848c1ea",
   "metadata": {},
   "outputs": [
    {
     "name": "stderr",
     "output_type": "stream",
     "text": [
      "                                                                                \r"
     ]
    },
    {
     "data": {
      "text/html": [
       "<div>\n",
       "<style scoped>\n",
       "    .dataframe tbody tr th:only-of-type {\n",
       "        vertical-align: middle;\n",
       "    }\n",
       "\n",
       "    .dataframe tbody tr th {\n",
       "        vertical-align: top;\n",
       "    }\n",
       "\n",
       "    .dataframe thead th {\n",
       "        text-align: right;\n",
       "    }\n",
       "</style>\n",
       "<table border=\"1\" class=\"dataframe\">\n",
       "  <thead>\n",
       "    <tr style=\"text-align: right;\">\n",
       "      <th></th>\n",
       "      <th>DATE</th>\n",
       "      <th>count</th>\n",
       "    </tr>\n",
       "  </thead>\n",
       "  <tbody>\n",
       "    <tr>\n",
       "      <th>0</th>\n",
       "      <td>2023-11-22</td>\n",
       "      <td>4796</td>\n",
       "    </tr>\n",
       "    <tr>\n",
       "      <th>1</th>\n",
       "      <td>2023-11-25</td>\n",
       "      <td>7364</td>\n",
       "    </tr>\n",
       "    <tr>\n",
       "      <th>2</th>\n",
       "      <td>2023-11-17</td>\n",
       "      <td>1462</td>\n",
       "    </tr>\n",
       "    <tr>\n",
       "      <th>3</th>\n",
       "      <td>2023-11-18</td>\n",
       "      <td>2978</td>\n",
       "    </tr>\n",
       "    <tr>\n",
       "      <th>4</th>\n",
       "      <td>2023-10-12</td>\n",
       "      <td>4805</td>\n",
       "    </tr>\n",
       "    <tr>\n",
       "      <th>5</th>\n",
       "      <td>2023-11-24</td>\n",
       "      <td>4540</td>\n",
       "    </tr>\n",
       "    <tr>\n",
       "      <th>6</th>\n",
       "      <td>2023-11-04</td>\n",
       "      <td>6724</td>\n",
       "    </tr>\n",
       "    <tr>\n",
       "      <th>7</th>\n",
       "      <td>2023-10-29</td>\n",
       "      <td>5993</td>\n",
       "    </tr>\n",
       "    <tr>\n",
       "      <th>8</th>\n",
       "      <td>2023-10-13</td>\n",
       "      <td>5179</td>\n",
       "    </tr>\n",
       "    <tr>\n",
       "      <th>9</th>\n",
       "      <td>2023-11-05</td>\n",
       "      <td>6224</td>\n",
       "    </tr>\n",
       "  </tbody>\n",
       "</table>\n",
       "</div>"
      ],
      "text/plain": [
       "         DATE  count\n",
       "0  2023-11-22   4796\n",
       "1  2023-11-25   7364\n",
       "2  2023-11-17   1462\n",
       "3  2023-11-18   2978\n",
       "4  2023-10-12   4805\n",
       "5  2023-11-24   4540\n",
       "6  2023-11-04   6724\n",
       "7  2023-10-29   5993\n",
       "8  2023-10-13   5179\n",
       "9  2023-11-05   6224"
      ]
     },
     "execution_count": 13,
     "metadata": {},
     "output_type": "execute_result"
    }
   ],
   "source": [
    "display(umv_df.groupby(\"DATE\").count())"
   ]
  },
  {
   "cell_type": "code",
   "execution_count": 14,
   "id": "55bf396e-1f40-4f86-a221-26989c6891b8",
   "metadata": {},
   "outputs": [],
   "source": [
    "# display(stock_df.groupby(\"fecha_stock\").count())"
   ]
  },
  {
   "cell_type": "code",
   "execution_count": 15,
   "id": "fa662b1a-ea65-4b01-a45c-d8105bb6af8b",
   "metadata": {},
   "outputs": [
    {
     "name": "stderr",
     "output_type": "stream",
     "text": [
      "[Stage 38:==============================>                          (9 + 8) / 17]\r"
     ]
    },
    {
     "name": "stdout",
     "output_type": "stream",
     "text": [
      "# filtered umv:  4081\n"
     ]
    },
    {
     "name": "stderr",
     "output_type": "stream",
     "text": [
      "                                                                                \r"
     ]
    }
   ],
   "source": [
    "today_date = datetime.today().date()\n",
    "umv_df = umv_df.filter(F.col(\"DATE\")==F.lit(today_date))\n",
    "stock_filter = umv_df.join(stock_df,\\\n",
    "                           (umv_df.LOCAL_ID == stock_df.tienda_stock) &\\\n",
    "                           (umv_df.EAN == stock_df.ean_stock) &\\\n",
    "                           (umv_df.ITEM_ID == stock_df.sku_stock),\\\n",
    "                           \"inner\")\n",
    "print(\"# filtered umv: \",stock_filter.count())"
   ]
  },
  {
   "cell_type": "code",
   "execution_count": 16,
   "id": "2d1a1701-8411-4fe0-b775-f21e3ecde5d0",
   "metadata": {},
   "outputs": [],
   "source": [
    "stock_filter = stock_filter.drop(\"ean_stock\",\"tienda_stock\",\"sku_stock\",\"fecha_stock\")"
   ]
  },
  {
   "cell_type": "code",
   "execution_count": 17,
   "id": "ec62d440-819f-46bb-85b5-00874467fb0f",
   "metadata": {},
   "outputs": [
    {
     "name": "stdout",
     "output_type": "stream",
     "text": [
      "root\n",
      " |-- LOCAL_ID: string (nullable = true)\n",
      " |-- ITEM_ID: string (nullable = true)\n",
      " |-- EAN: string (nullable = true)\n",
      " |-- DATE: date (nullable = true)\n",
      " |-- DAY: string (nullable = true)\n",
      " |-- WEEK_DAY: long (nullable = true)\n",
      " |-- FORECAST: long (nullable = true)\n",
      " |-- UMV: long (nullable = true)\n",
      " |-- MAPE: long (nullable = true)\n",
      " |-- MODEL: string (nullable = true)\n",
      " |-- unidades_stock: double (nullable = true)\n",
      "\n"
     ]
    }
   ],
   "source": [
    "stock_filter.printSchema()"
   ]
  },
  {
   "cell_type": "code",
   "execution_count": 18,
   "id": "f937b45c-3488-4be8-9c92-862899db74d8",
   "metadata": {},
   "outputs": [
    {
     "name": "stderr",
     "output_type": "stream",
     "text": [
      "[Stage 43:>                                                         (0 + 1) / 1]\r"
     ]
    },
    {
     "name": "stdout",
     "output_type": "stream",
     "text": [
      "  LOCAL_ID  ITEM_ID            EAN        DATE     DAY  WEEK_DAY  FORECAST   UMV  MAPE     MODEL  unidades_stock\n",
      "0       13  3499916  7703616031606  2023-11-21  MARTES         3      1032  1024    11     ARIMA         34136.0\n",
      "1       13  3475154  7705326002303  2023-11-21  MARTES         3        17     1    30  ENSEMBLE           120.0\n",
      "2       15  3242338  7702001133611  2023-11-21  MARTES         3        14     1    30   SARIMAX           159.0\n",
      "3       15  0277966  7702434214000  2023-11-21  MARTES         3        20     7    21  ENSEMBLE           300.0\n",
      "4       22  0835476  7705326079367  2023-11-21  MARTES         3         7     1    28   SARIMAX           104.0\n"
     ]
    },
    {
     "name": "stderr",
     "output_type": "stream",
     "text": [
      "                                                                                \r"
     ]
    }
   ],
   "source": [
    "print(display(stock_filter,5))"
   ]
  },
  {
   "cell_type": "code",
   "execution_count": 20,
   "id": "d08f6b3c-262f-4181-8ef7-a79e9169f638",
   "metadata": {},
   "outputs": [
    {
     "name": "stderr",
     "output_type": "stream",
     "text": [
      "[Stage 56:>                                                         (0 + 4) / 4]\r"
     ]
    },
    {
     "name": "stdout",
     "output_type": "stream",
     "text": [
      "# filtered umv:  4015\n"
     ]
    },
    {
     "name": "stderr",
     "output_type": "stream",
     "text": [
      "                                                                                \r"
     ]
    }
   ],
   "source": [
    "stock_filtered=stock_filter.withColumn(\"Diff\", F.round(F.col(\"unidades_stock\")-F.col(\"UMV\"))).filter(F.col(\"Diff\")>0)\n",
    "print(\"# filtered umv: \",stock_filtered.count())"
   ]
  },
  {
   "cell_type": "code",
   "execution_count": 21,
   "id": "1a01dbb6-45fe-4a91-9377-18d14a9d73e0",
   "metadata": {},
   "outputs": [
    {
     "name": "stderr",
     "output_type": "stream",
     "text": [
      "[Stage 61:>                                                         (0 + 1) / 1]\r"
     ]
    },
    {
     "name": "stdout",
     "output_type": "stream",
     "text": [
      "  LOCAL_ID  ITEM_ID            EAN        DATE     DAY  WEEK_DAY  FORECAST   UMV  MAPE     MODEL  unidades_stock     Diff\n",
      "0       13  3499916  7703616031606  2023-11-21  MARTES         3      1032  1024    11     ARIMA         34136.0  33112.0\n",
      "1       13  3475154  7705326002303  2023-11-21  MARTES         3        17     1    30  ENSEMBLE           120.0    119.0\n",
      "2       15  3242338  7702001133611  2023-11-21  MARTES         3        14     1    30   SARIMAX           159.0    158.0\n",
      "3       15  0277966  7702434214000  2023-11-21  MARTES         3        20     7    21  ENSEMBLE           300.0    293.0\n",
      "4       22  0835476  7705326079367  2023-11-21  MARTES         3         7     1    28   SARIMAX           104.0    103.0\n",
      "5       24  0349839  7702192422051  2023-11-21  MARTES         3        11     2    14     ARIMA           129.0    127.0\n",
      "6       33  0195645  7702137636864  2023-11-21  MARTES         3         5     1    22     HOLTW            73.0     72.0\n",
      "7       34  3334320  7702535024423  2023-11-21  MARTES         3         5     1    29   PROPHET           154.0    153.0\n",
      "8       36  3533887  7702189057860  2023-11-21  MARTES         3         6     1    26     HOLTW            42.0     41.0\n",
      "9       40  0827658       20347987  2023-11-21  MARTES         3        29    21    12   PROPHET           224.0    203.0\n"
     ]
    },
    {
     "name": "stderr",
     "output_type": "stream",
     "text": [
      "                                                                                \r"
     ]
    }
   ],
   "source": [
    "# stock_filtered = stock_filtered.distinct()\n",
    "# print(\"# filtered umv: \",stock_filtered.count())\n",
    "print(display(stock_filtered))"
   ]
  },
  {
   "cell_type": "markdown",
   "id": "e33e5b69-2d6c-42d0-aa96-f26d6446bd47",
   "metadata": {},
   "source": [
    "# Filter items no active"
   ]
  },
  {
   "cell_type": "code",
   "execution_count": null,
   "id": "0a22405d-981c-4a82-8340-5ef38c6d39ee",
   "metadata": {},
   "outputs": [],
   "source": [
    "# print(\"#active: \",active_df.count())\n",
    "# active_df = active_df.filter(F.col(\"estado_producto\")==\"S\")\n",
    "# active_df = active_df.distinct()\n",
    "# print(\"#active: \",active_df.count())"
   ]
  },
  {
   "cell_type": "code",
   "execution_count": 22,
   "id": "131115dd-1a7d-422f-ad90-7cb94ff92703",
   "metadata": {},
   "outputs": [
    {
     "name": "stdout",
     "output_type": "stream",
     "text": [
      "root\n",
      " |-- LOCAL_ID: string (nullable = true)\n",
      " |-- ITEM_ID: string (nullable = true)\n",
      " |-- EAN: string (nullable = true)\n",
      " |-- DATE: date (nullable = true)\n",
      " |-- DAY: string (nullable = true)\n",
      " |-- WEEK_DAY: long (nullable = true)\n",
      " |-- FORECAST: long (nullable = true)\n",
      " |-- UMV: long (nullable = true)\n",
      " |-- MAPE: long (nullable = true)\n",
      " |-- MODEL: string (nullable = true)\n",
      " |-- unidades_stock: double (nullable = true)\n",
      "\n"
     ]
    }
   ],
   "source": [
    "stock_filter.printSchema()"
   ]
  },
  {
   "cell_type": "code",
   "execution_count": 23,
   "id": "bdd63c5d-d3f4-446f-9c29-f95b38910cf3",
   "metadata": {},
   "outputs": [
    {
     "name": "stderr",
     "output_type": "stream",
     "text": [
      "[Stage 77:==================================================>     (36 + 4) / 40]\r"
     ]
    },
    {
     "name": "stdout",
     "output_type": "stream",
     "text": [
      "# filtered umv:  4009\n"
     ]
    },
    {
     "name": "stderr",
     "output_type": "stream",
     "text": [
      "                                                                                \r"
     ]
    }
   ],
   "source": [
    "active_filter = stock_filtered.join(active_df, (stock_filtered.LOCAL_ID ==active_df.tienda_stock) & (stock_filtered.EAN ==active_df.ean_stock)& (stock_filtered.ITEM_ID ==active_df.sku_stock), \"inner\")\n",
    "print(\"# filtered umv: \",active_filter.count())"
   ]
  },
  {
   "cell_type": "code",
   "execution_count": 26,
   "id": "3804b7d6-75f0-4948-aafc-4bab3833eadf",
   "metadata": {},
   "outputs": [
    {
     "name": "stderr",
     "output_type": "stream",
     "text": [
      "[Stage 92:===================================================>    (37 + 3) / 40]\r"
     ]
    },
    {
     "name": "stdout",
     "output_type": "stream",
     "text": [
      "# filtered umv:  4009\n",
      "root\n",
      " |-- LOCAL_ID: string (nullable = true)\n",
      " |-- ITEM_ID: string (nullable = true)\n",
      " |-- EAN: string (nullable = true)\n",
      " |-- DATE: date (nullable = true)\n",
      " |-- DAY: string (nullable = true)\n",
      " |-- WEEK_DAY: long (nullable = true)\n",
      " |-- FORECAST: long (nullable = true)\n",
      " |-- UMV: long (nullable = true)\n",
      " |-- MAPE: long (nullable = true)\n",
      " |-- MODEL: string (nullable = true)\n",
      " |-- unidades_stock: double (nullable = true)\n",
      " |-- Diff: double (nullable = true)\n",
      "\n"
     ]
    },
    {
     "name": "stderr",
     "output_type": "stream",
     "text": [
      "                                                                                \r"
     ]
    }
   ],
   "source": [
    "active_filter = active_filter.drop(\"sku_stock\",\"ean_stock\",\"tienda_stock\")\n",
    "active_filter = active_filter.distinct()\n",
    "print(\"# filtered umv: \",active_filter.count())\n",
    "active_filter.printSchema()"
   ]
  },
  {
   "cell_type": "code",
   "execution_count": 27,
   "id": "fdbaa6f0-fd29-4ab5-a192-7c65778c4c89",
   "metadata": {},
   "outputs": [
    {
     "name": "stderr",
     "output_type": "stream",
     "text": [
      "[Stage 111:====================================================>  (38 + 2) / 40]\r"
     ]
    },
    {
     "name": "stdout",
     "output_type": "stream",
     "text": [
      "  LOCAL_ID  ITEM_ID            EAN        DATE     DAY  WEEK_DAY  FORECAST  UMV  MAPE     MODEL  unidades_stock   Diff\n",
      "0       72  0752396           3940  2023-11-21  MARTES         3        28   16    19     HOLTW          414.83  399.0\n",
      "1        3  0835434  7705326079343  2023-11-21  MARTES         3        15    1    28     HOLTW          144.00  143.0\n",
      "2       19  3522944  7702425014374  2023-11-21  MARTES         3         5    1    23  ENSEMBLE          150.00  149.0\n",
      "3        3  0652745  7702175156874  2023-11-21  MARTES         3         8    1    30     ARIMA          225.00  224.0\n",
      "4       73  0786481  7703616093604  2023-11-21  MARTES         3         6    1    27   SARIMAX          260.00  259.0\n"
     ]
    },
    {
     "name": "stderr",
     "output_type": "stream",
     "text": [
      "                                                                                \r"
     ]
    }
   ],
   "source": [
    "print(display(active_filter,5))"
   ]
  },
  {
   "cell_type": "code",
   "execution_count": 28,
   "id": "4894ca85-5ea7-49f2-bf5f-ff2910cf842b",
   "metadata": {},
   "outputs": [],
   "source": [
    "# active_filter.select(\"LOCAL_ID\").distinct().count()"
   ]
  },
  {
   "cell_type": "code",
   "execution_count": 29,
   "id": "64516467-d08c-4ca2-b16d-3e90b74463ab",
   "metadata": {},
   "outputs": [
    {
     "name": "stdout",
     "output_type": "stream",
     "text": [
      "root\n",
      " |-- LOCAL_ID: string (nullable = true)\n",
      " |-- ITEM_ID: string (nullable = true)\n",
      " |-- EAN: string (nullable = true)\n",
      " |-- DATE: date (nullable = true)\n",
      " |-- DAY: string (nullable = true)\n",
      " |-- WEEK_DAY: long (nullable = true)\n",
      " |-- FORECAST: long (nullable = true)\n",
      " |-- UMV: long (nullable = true)\n",
      " |-- ERROR: long (nullable = true)\n",
      " |-- MODEL: string (nullable = true)\n",
      " |-- STOCK: double (nullable = true)\n",
      " |-- DIFF: double (nullable = true)\n",
      " |-- STATE: string (nullable = false)\n",
      " |-- UN: string (nullable = false)\n",
      "\n"
     ]
    }
   ],
   "source": [
    "final_table=active_filter\\\n",
    "                .withColumnRenamed(\"MAPE\",\"ERROR\")\\\n",
    "                .withColumnRenamed(\"Diff\",\"DIFF\")\\\n",
    "                .withColumnRenamed(\"unidades_stock\",\"STOCK\")\\\n",
    "                .withColumn(\"STATE\",F.lit(\"S\"))\\\n",
    "                .withColumn(\"UN\",F.lit(\"N/D\"))\n",
    "\n",
    "final_table.printSchema()\n",
    "# final_table.limit(5).toPandas()             "
   ]
  },
  {
   "cell_type": "markdown",
   "id": "cd433dda-9c84-4c0c-a256-f10ac837e4cd",
   "metadata": {},
   "source": [
    "## REAL SALES"
   ]
  },
  {
   "cell_type": "code",
   "execution_count": 36,
   "id": "e60f9724-775c-42b6-ab52-5d6fb7d6f374",
   "metadata": {},
   "outputs": [],
   "source": [
    "# Data collection\n",
    "dataset_id = 'data_analytics_default'\n",
    "table_id = 'BQ_CO_SM_SALES_02'\n",
    "\n",
    "df = (\n",
    "    spark.read.format(\"bigquery\")\n",
    "    .option(\"table\", f\"{dataset_id}.{table_id}\")\n",
    "    .load()\n",
    ")"
   ]
  },
  {
   "cell_type": "code",
   "execution_count": 37,
   "id": "5cde6879-67eb-48d8-97bd-c292309840eb",
   "metadata": {},
   "outputs": [],
   "source": [
    "df = df.filter(F.col(\"DATE\")==F.date_sub(F.current_date(), 1))"
   ]
  },
  {
   "cell_type": "code",
   "execution_count": 38,
   "id": "78ee1990-30e7-4519-bc86-2345063cd82c",
   "metadata": {},
   "outputs": [],
   "source": [
    "df = df.groupBy(\"EAN\",\"ITEM_ID\",\"LOCAL_ID\").sum(\"UNITS\")"
   ]
  },
  {
   "cell_type": "code",
   "execution_count": 39,
   "id": "75226d70-ab91-46dc-98a1-3758cb6d478c",
   "metadata": {},
   "outputs": [
    {
     "name": "stdout",
     "output_type": "stream",
     "text": [
      "root\n",
      " |-- EAN: string (nullable = true)\n",
      " |-- ITEM_ID: string (nullable = true)\n",
      " |-- LOCAL_ID: string (nullable = true)\n",
      " |-- sum(UNITS): double (nullable = true)\n",
      "\n"
     ]
    },
    {
     "name": "stderr",
     "output_type": "stream",
     "text": [
      "                                                                                \r"
     ]
    },
    {
     "data": {
      "text/plain": [
       "(None, 278341)"
      ]
     },
     "execution_count": 39,
     "metadata": {},
     "output_type": "execute_result"
    }
   ],
   "source": [
    "df.printSchema(), df.count()"
   ]
  },
  {
   "cell_type": "code",
   "execution_count": 40,
   "id": "c28b4b5e-002a-4e3d-827f-4ddcd8b7d291",
   "metadata": {},
   "outputs": [
    {
     "name": "stderr",
     "output_type": "stream",
     "text": [
      "                                                                                \r"
     ]
    },
    {
     "data": {
      "text/html": [
       "<div>\n",
       "<style scoped>\n",
       "    .dataframe tbody tr th:only-of-type {\n",
       "        vertical-align: middle;\n",
       "    }\n",
       "\n",
       "    .dataframe tbody tr th {\n",
       "        vertical-align: top;\n",
       "    }\n",
       "\n",
       "    .dataframe thead th {\n",
       "        text-align: right;\n",
       "    }\n",
       "</style>\n",
       "<table border=\"1\" class=\"dataframe\">\n",
       "  <thead>\n",
       "    <tr style=\"text-align: right;\">\n",
       "      <th></th>\n",
       "      <th>EAN</th>\n",
       "      <th>ITEM_ID</th>\n",
       "      <th>LOCAL_ID</th>\n",
       "      <th>sum(UNITS)</th>\n",
       "    </tr>\n",
       "  </thead>\n",
       "  <tbody>\n",
       "    <tr>\n",
       "      <th>0</th>\n",
       "      <td>55</td>\n",
       "      <td>0003087</td>\n",
       "      <td>16</td>\n",
       "      <td>0.135</td>\n",
       "    </tr>\n",
       "    <tr>\n",
       "      <th>1</th>\n",
       "      <td>86</td>\n",
       "      <td>0000541</td>\n",
       "      <td>49</td>\n",
       "      <td>1.125</td>\n",
       "    </tr>\n",
       "    <tr>\n",
       "      <th>2</th>\n",
       "      <td>161</td>\n",
       "      <td>0000095</td>\n",
       "      <td>11</td>\n",
       "      <td>9.930</td>\n",
       "    </tr>\n",
       "    <tr>\n",
       "      <th>3</th>\n",
       "      <td>178</td>\n",
       "      <td>0000206</td>\n",
       "      <td>84</td>\n",
       "      <td>1.260</td>\n",
       "    </tr>\n",
       "    <tr>\n",
       "      <th>4</th>\n",
       "      <td>208</td>\n",
       "      <td>0003088</td>\n",
       "      <td>73</td>\n",
       "      <td>1.565</td>\n",
       "    </tr>\n",
       "    <tr>\n",
       "      <th>5</th>\n",
       "      <td>291</td>\n",
       "      <td>0002965</td>\n",
       "      <td>81</td>\n",
       "      <td>11.415</td>\n",
       "    </tr>\n",
       "    <tr>\n",
       "      <th>6</th>\n",
       "      <td>468</td>\n",
       "      <td>0002647</td>\n",
       "      <td>44</td>\n",
       "      <td>8.735</td>\n",
       "    </tr>\n",
       "    <tr>\n",
       "      <th>7</th>\n",
       "      <td>505</td>\n",
       "      <td>0003271</td>\n",
       "      <td>70</td>\n",
       "      <td>2.920</td>\n",
       "    </tr>\n",
       "    <tr>\n",
       "      <th>8</th>\n",
       "      <td>611</td>\n",
       "      <td>0037603</td>\n",
       "      <td>28</td>\n",
       "      <td>0.460</td>\n",
       "    </tr>\n",
       "    <tr>\n",
       "      <th>9</th>\n",
       "      <td>628</td>\n",
       "      <td>0002812</td>\n",
       "      <td>15</td>\n",
       "      <td>1.860</td>\n",
       "    </tr>\n",
       "  </tbody>\n",
       "</table>\n",
       "</div>"
      ],
      "text/plain": [
       "   EAN  ITEM_ID LOCAL_ID  sum(UNITS)\n",
       "0   55  0003087       16       0.135\n",
       "1   86  0000541       49       1.125\n",
       "2  161  0000095       11       9.930\n",
       "3  178  0000206       84       1.260\n",
       "4  208  0003088       73       1.565\n",
       "5  291  0002965       81      11.415\n",
       "6  468  0002647       44       8.735\n",
       "7  505  0003271       70       2.920\n",
       "8  611  0037603       28       0.460\n",
       "9  628  0002812       15       1.860"
      ]
     },
     "execution_count": 40,
     "metadata": {},
     "output_type": "execute_result"
    }
   ],
   "source": [
    "display(df)"
   ]
  },
  {
   "cell_type": "code",
   "execution_count": 41,
   "id": "513247b1-a904-4cd7-a830-d92e84522a36",
   "metadata": {},
   "outputs": [],
   "source": [
    "final_table_real_sales = final_table.join(df,on=[\"EAN\", \"ITEM_ID\", \"LOCAL_ID\"], how=\"inner\").withColumnRenamed(\"sum(UNITS)\",\"REAL_SALE\")\n",
    "final_table_real_sales = final_table_real_sales.select(\"LOCAL_ID\",\"ITEM_ID\",\"EAN\",\"DATE\",\\\n",
    "                                 \"DAY\",\"WEEK_DAY\",\"FORECAST\",\"UMV\",\\\n",
    "                                 \"ERROR\",\"MODEL\",\"REAL_SALE\",\"DIFF\",\\\n",
    "                                 \"STOCK\",\"STATE\")"
   ]
  },
  {
   "cell_type": "code",
   "execution_count": 42,
   "id": "389ec04a-98a6-4d34-a36f-9e28fe110822",
   "metadata": {},
   "outputs": [],
   "source": [
    "final_table_real_sales = final_table_real_sales.filter(F.col(\"REAL_SALE\")<=F.col(\"UMV\"))"
   ]
  },
  {
   "cell_type": "code",
   "execution_count": 43,
   "id": "d952e5b5-b368-4b7c-90f7-6e1c06d79caf",
   "metadata": {},
   "outputs": [
    {
     "name": "stdout",
     "output_type": "stream",
     "text": [
      "root\n",
      " |-- LOCAL_ID: string (nullable = true)\n",
      " |-- ITEM_ID: string (nullable = true)\n",
      " |-- EAN: string (nullable = true)\n",
      " |-- DATE: date (nullable = true)\n",
      " |-- DAY: string (nullable = true)\n",
      " |-- WEEK_DAY: long (nullable = true)\n",
      " |-- FORECAST: long (nullable = true)\n",
      " |-- UMV: long (nullable = true)\n",
      " |-- ERROR: long (nullable = true)\n",
      " |-- MODEL: string (nullable = true)\n",
      " |-- REAL_SALE: double (nullable = true)\n",
      " |-- DIFF: double (nullable = true)\n",
      " |-- STOCK: double (nullable = true)\n",
      " |-- STATE: string (nullable = false)\n",
      "\n"
     ]
    }
   ],
   "source": [
    "final_table_real_sales.printSchema()\n",
    "final_table_real_sales=final_table_real_sales.cache()"
   ]
  },
  {
   "cell_type": "code",
   "execution_count": 44,
   "id": "993712c9-ec86-4cd4-8352-3eb4e6b4a2df",
   "metadata": {},
   "outputs": [
    {
     "name": "stderr",
     "output_type": "stream",
     "text": [
      "                                                                                \r"
     ]
    },
    {
     "data": {
      "text/plain": [
       "202"
      ]
     },
     "execution_count": 44,
     "metadata": {},
     "output_type": "execute_result"
    }
   ],
   "source": [
    "final_table_real_sales.count()"
   ]
  },
  {
   "cell_type": "code",
   "execution_count": 45,
   "id": "a2f2ce92-76ae-45c7-a549-af094c13ba59",
   "metadata": {},
   "outputs": [
    {
     "data": {
      "text/html": [
       "<div>\n",
       "<style scoped>\n",
       "    .dataframe tbody tr th:only-of-type {\n",
       "        vertical-align: middle;\n",
       "    }\n",
       "\n",
       "    .dataframe tbody tr th {\n",
       "        vertical-align: top;\n",
       "    }\n",
       "\n",
       "    .dataframe thead th {\n",
       "        text-align: right;\n",
       "    }\n",
       "</style>\n",
       "<table border=\"1\" class=\"dataframe\">\n",
       "  <thead>\n",
       "    <tr style=\"text-align: right;\">\n",
       "      <th></th>\n",
       "      <th>LOCAL_ID</th>\n",
       "      <th>ITEM_ID</th>\n",
       "      <th>EAN</th>\n",
       "      <th>DATE</th>\n",
       "      <th>DAY</th>\n",
       "      <th>WEEK_DAY</th>\n",
       "      <th>FORECAST</th>\n",
       "      <th>UMV</th>\n",
       "      <th>ERROR</th>\n",
       "      <th>MODEL</th>\n",
       "      <th>REAL_SALE</th>\n",
       "      <th>DIFF</th>\n",
       "      <th>STOCK</th>\n",
       "      <th>STATE</th>\n",
       "    </tr>\n",
       "  </thead>\n",
       "  <tbody>\n",
       "    <tr>\n",
       "      <th>0</th>\n",
       "      <td>103</td>\n",
       "      <td>0000254</td>\n",
       "      <td>1045</td>\n",
       "      <td>2023-11-21</td>\n",
       "      <td>MARTES</td>\n",
       "      <td>3</td>\n",
       "      <td>90</td>\n",
       "      <td>84</td>\n",
       "      <td>9</td>\n",
       "      <td>HOLTW</td>\n",
       "      <td>21.635</td>\n",
       "      <td>259.0</td>\n",
       "      <td>342.66</td>\n",
       "      <td>S</td>\n",
       "    </tr>\n",
       "    <tr>\n",
       "      <th>1</th>\n",
       "      <td>7</td>\n",
       "      <td>0400303</td>\n",
       "      <td>2700002000005</td>\n",
       "      <td>2023-11-21</td>\n",
       "      <td>MARTES</td>\n",
       "      <td>3</td>\n",
       "      <td>946</td>\n",
       "      <td>936</td>\n",
       "      <td>16</td>\n",
       "      <td>SARIMAX</td>\n",
       "      <td>604.680</td>\n",
       "      <td>21733.0</td>\n",
       "      <td>22668.53</td>\n",
       "      <td>S</td>\n",
       "    </tr>\n",
       "    <tr>\n",
       "      <th>2</th>\n",
       "      <td>145</td>\n",
       "      <td>0489326</td>\n",
       "      <td>2700008000009</td>\n",
       "      <td>2023-11-21</td>\n",
       "      <td>MARTES</td>\n",
       "      <td>3</td>\n",
       "      <td>2478</td>\n",
       "      <td>2467</td>\n",
       "      <td>17</td>\n",
       "      <td>SARIMAX</td>\n",
       "      <td>754.360</td>\n",
       "      <td>7061.0</td>\n",
       "      <td>9528.21</td>\n",
       "      <td>S</td>\n",
       "    </tr>\n",
       "    <tr>\n",
       "      <th>3</th>\n",
       "      <td>47</td>\n",
       "      <td>0489326</td>\n",
       "      <td>2700008000009</td>\n",
       "      <td>2023-11-21</td>\n",
       "      <td>MARTES</td>\n",
       "      <td>3</td>\n",
       "      <td>73</td>\n",
       "      <td>61</td>\n",
       "      <td>19</td>\n",
       "      <td>PROPHET</td>\n",
       "      <td>53.783</td>\n",
       "      <td>2135.0</td>\n",
       "      <td>2195.97</td>\n",
       "      <td>S</td>\n",
       "    </tr>\n",
       "    <tr>\n",
       "      <th>4</th>\n",
       "      <td>103</td>\n",
       "      <td>0003111</td>\n",
       "      <td>550</td>\n",
       "      <td>2023-11-21</td>\n",
       "      <td>MARTES</td>\n",
       "      <td>3</td>\n",
       "      <td>67</td>\n",
       "      <td>52</td>\n",
       "      <td>24</td>\n",
       "      <td>ENSEMBLE</td>\n",
       "      <td>23.565</td>\n",
       "      <td>524.0</td>\n",
       "      <td>575.70</td>\n",
       "      <td>S</td>\n",
       "    </tr>\n",
       "    <tr>\n",
       "      <th>5</th>\n",
       "      <td>103</td>\n",
       "      <td>3462899</td>\n",
       "      <td>7703616030579</td>\n",
       "      <td>2023-11-21</td>\n",
       "      <td>MARTES</td>\n",
       "      <td>3</td>\n",
       "      <td>22</td>\n",
       "      <td>11</td>\n",
       "      <td>17</td>\n",
       "      <td>ENSEMBLE</td>\n",
       "      <td>9.000</td>\n",
       "      <td>19.0</td>\n",
       "      <td>30.00</td>\n",
       "      <td>S</td>\n",
       "    </tr>\n",
       "    <tr>\n",
       "      <th>6</th>\n",
       "      <td>13</td>\n",
       "      <td>0400303</td>\n",
       "      <td>2700002000005</td>\n",
       "      <td>2023-11-21</td>\n",
       "      <td>MARTES</td>\n",
       "      <td>3</td>\n",
       "      <td>2237</td>\n",
       "      <td>2231</td>\n",
       "      <td>9</td>\n",
       "      <td>ARIMA</td>\n",
       "      <td>2054.301</td>\n",
       "      <td>1088.0</td>\n",
       "      <td>3319.47</td>\n",
       "      <td>S</td>\n",
       "    </tr>\n",
       "    <tr>\n",
       "      <th>7</th>\n",
       "      <td>136</td>\n",
       "      <td>0400303</td>\n",
       "      <td>2700002000005</td>\n",
       "      <td>2023-11-21</td>\n",
       "      <td>MARTES</td>\n",
       "      <td>3</td>\n",
       "      <td>1376</td>\n",
       "      <td>1372</td>\n",
       "      <td>6</td>\n",
       "      <td>ENSEMBLE</td>\n",
       "      <td>1338.887</td>\n",
       "      <td>4048.0</td>\n",
       "      <td>5420.11</td>\n",
       "      <td>S</td>\n",
       "    </tr>\n",
       "    <tr>\n",
       "      <th>8</th>\n",
       "      <td>40</td>\n",
       "      <td>0249768</td>\n",
       "      <td>24</td>\n",
       "      <td>2023-11-21</td>\n",
       "      <td>MARTES</td>\n",
       "      <td>3</td>\n",
       "      <td>85</td>\n",
       "      <td>66</td>\n",
       "      <td>30</td>\n",
       "      <td>HOLTW</td>\n",
       "      <td>52.595</td>\n",
       "      <td>1008.0</td>\n",
       "      <td>1074.18</td>\n",
       "      <td>S</td>\n",
       "    </tr>\n",
       "    <tr>\n",
       "      <th>9</th>\n",
       "      <td>43</td>\n",
       "      <td>3499916</td>\n",
       "      <td>7703616031606</td>\n",
       "      <td>2023-11-21</td>\n",
       "      <td>MARTES</td>\n",
       "      <td>3</td>\n",
       "      <td>355</td>\n",
       "      <td>349</td>\n",
       "      <td>9</td>\n",
       "      <td>PROPHET</td>\n",
       "      <td>287.000</td>\n",
       "      <td>11815.0</td>\n",
       "      <td>12164.00</td>\n",
       "      <td>S</td>\n",
       "    </tr>\n",
       "  </tbody>\n",
       "</table>\n",
       "</div>"
      ],
      "text/plain": [
       "  LOCAL_ID  ITEM_ID            EAN        DATE     DAY  WEEK_DAY  FORECAST   UMV  ERROR     MODEL  REAL_SALE     DIFF     STOCK STATE\n",
       "0      103  0000254           1045  2023-11-21  MARTES         3        90    84      9     HOLTW     21.635    259.0    342.66     S\n",
       "1        7  0400303  2700002000005  2023-11-21  MARTES         3       946   936     16   SARIMAX    604.680  21733.0  22668.53     S\n",
       "2      145  0489326  2700008000009  2023-11-21  MARTES         3      2478  2467     17   SARIMAX    754.360   7061.0   9528.21     S\n",
       "3       47  0489326  2700008000009  2023-11-21  MARTES         3        73    61     19   PROPHET     53.783   2135.0   2195.97     S\n",
       "4      103  0003111            550  2023-11-21  MARTES         3        67    52     24  ENSEMBLE     23.565    524.0    575.70     S\n",
       "5      103  3462899  7703616030579  2023-11-21  MARTES         3        22    11     17  ENSEMBLE      9.000     19.0     30.00     S\n",
       "6       13  0400303  2700002000005  2023-11-21  MARTES         3      2237  2231      9     ARIMA   2054.301   1088.0   3319.47     S\n",
       "7      136  0400303  2700002000005  2023-11-21  MARTES         3      1376  1372      6  ENSEMBLE   1338.887   4048.0   5420.11     S\n",
       "8       40  0249768             24  2023-11-21  MARTES         3        85    66     30     HOLTW     52.595   1008.0   1074.18     S\n",
       "9       43  3499916  7703616031606  2023-11-21  MARTES         3       355   349      9   PROPHET    287.000  11815.0  12164.00     S"
      ]
     },
     "execution_count": 45,
     "metadata": {},
     "output_type": "execute_result"
    }
   ],
   "source": [
    "display(final_table_real_sales)"
   ]
  },
  {
   "cell_type": "markdown",
   "id": "ea3e0d6a-5a22-4819-a479-860b8f050cb4",
   "metadata": {},
   "source": [
    "## -----"
   ]
  },
  {
   "cell_type": "markdown",
   "id": "3c1bb6d0-4837-4c2e-9386-b7761f8cca53",
   "metadata": {},
   "source": [
    "## SCORE"
   ]
  },
  {
   "cell_type": "code",
   "execution_count": null,
   "id": "addc57c7-27cc-4f9e-bb37-7702a926d2b4",
   "metadata": {},
   "outputs": [],
   "source": [
    "score = spark.read.parquet(f\"gs://{ENV}-bucket-dataproc-bigquery/dataproc/tmp/co/sm/score_colombia\")"
   ]
  },
  {
   "cell_type": "code",
   "execution_count": null,
   "id": "1d9d7aa3-0c47-4512-b1b2-bd3dd081324d",
   "metadata": {},
   "outputs": [],
   "source": [
    "score.printSchema()"
   ]
  },
  {
   "cell_type": "code",
   "execution_count": null,
   "id": "371bea17-6576-41f4-9d9b-be338372dff2",
   "metadata": {},
   "outputs": [],
   "source": [
    "score = score.withColumn(\"SCORE\", F.col(\"SCORE\").cast(\"double\"))"
   ]
  },
  {
   "cell_type": "code",
   "execution_count": null,
   "id": "0659e32c-4aca-4ad2-8c17-1ab2ec0341c5",
   "metadata": {},
   "outputs": [],
   "source": [
    "score = score.select(\n",
    "    F.col(\"LOCAL_ID\").alias(\"LOCAL_ID_df1\"),\n",
    "    F.col(\"ITEM_ID\").alias(\"ITEM_ID_df1\"),\n",
    "    F.col(\"EAN\").alias(\"EAN_df1\"),\n",
    "    F.col(\"SCORE\")\n",
    "    # Alias other columns as needed\n",
    ")"
   ]
  },
  {
   "cell_type": "code",
   "execution_count": null,
   "id": "0fe96d4f-f41c-47f9-9386-f22fc3ea1e93",
   "metadata": {},
   "outputs": [],
   "source": [
    "join_condition = (final_table_real_sales[\"EAN\"] == score[\"EAN_df1\"]) & (final_table_real_sales[\"ITEM_ID\"] == score[\"ITEM_ID_df1\"]) & (final_table_real_sales[\"LOCAL_ID\"] == score[\"LOCAL_ID_df1\"])\n",
    "\n",
    "# Perform an inner join\n",
    "final_table_real_sales_scored = final_table_real_sales.join(score, join_condition, \"left\").drop(\"LOCAL_ID_df1\",\"ITEM_ID_df1\",\"EAN_df1\")"
   ]
  },
  {
   "cell_type": "code",
   "execution_count": null,
   "id": "6e217e8d-3d91-485e-80e6-c3d0ef63466d",
   "metadata": {},
   "outputs": [],
   "source": [
    "final_table_real_sales_scored.printSchema()"
   ]
  },
  {
   "cell_type": "code",
   "execution_count": null,
   "id": "5d9158f7-aff8-4b08-85d1-abbb59c2ef9f",
   "metadata": {},
   "outputs": [],
   "source": [
    "from pyspark.sql.types import StructType, StructField, StringType, DateType, LongType, DoubleType\n",
    "\n",
    "def make_all_columns_nullable(input_df):\n",
    "    # Get the original schema\n",
    "    original_schema = input_df.schema\n",
    "\n",
    "    # Create a new schema with all columns set to nullable\n",
    "    new_fields = []\n",
    "    for field in original_schema.fields:\n",
    "        new_field = StructField(field.name, field.dataType, nullable=True)\n",
    "        new_fields.append(new_field)\n",
    "\n",
    "    new_schema = StructType(new_fields)\n",
    "\n",
    "    # Create a new DataFrame with the updated schema\n",
    "    nullable_df = input_df.withColumnRenamed(\"_PARTITIONTIME\", \"_PARTITIONTIME_str\")  # Rename the column temporarily\n",
    "    nullable_df = spark.createDataFrame(nullable_df.rdd, new_schema)\n",
    "    nullable_df = nullable_df.withColumnRenamed(\"_PARTITIONTIME_str\", \"_PARTITIONTIME\")  # Revert the column name if needed\n",
    "\n",
    "    return nullable_df"
   ]
  },
  {
   "cell_type": "code",
   "execution_count": null,
   "id": "25258d1d-ada4-4ac0-ad45-1075a2a5fcc3",
   "metadata": {},
   "outputs": [],
   "source": [
    "final_table_real_sales_scored = make_all_columns_nullable(final_table_real_sales_scored)"
   ]
  },
  {
   "cell_type": "code",
   "execution_count": null,
   "id": "2771d373-80dc-4ee0-9466-5a5f7698a814",
   "metadata": {},
   "outputs": [],
   "source": [
    "final_table_real_sales_scored.count()"
   ]
  },
  {
   "cell_type": "code",
   "execution_count": null,
   "id": "decd3ade-52d5-4ba6-a284-b201c43f271a",
   "metadata": {},
   "outputs": [],
   "source": [
    "final_table_real_sales_scored.write.format(\"bigquery\") \\\n",
    "    .option(\"temporaryGcsBucket\",f\"{ENV}-bucket-dataproc-bigquery/dataproc/co_core\") \\\n",
    "    .option(\"table\", \"data_analytics_default.BQ_CO_SM_RESULT_CORE_01\") \\\n",
    "    .mode(\"append\") \\\n",
    "    .save()"
   ]
  },
  {
   "cell_type": "code",
   "execution_count": null,
   "id": "0748c9b2-aabc-4c3f-9676-86aca94f43a6",
   "metadata": {},
   "outputs": [],
   "source": [
    "final_table_real_sales_scored = spark.read.format(\"bigquery\") \\\n",
    "        .option(\"table\", \"data_analytics_default.BQ_CO_SM_RESULT_CORE_01\") \\\n",
    "        .load()"
   ]
  },
  {
   "cell_type": "code",
   "execution_count": null,
   "id": "f27cb655-7405-413b-bea1-7f96a055a46f",
   "metadata": {},
   "outputs": [],
   "source": [
    "print(display(final_table_real_sales_scored,5))"
   ]
  },
  {
   "cell_type": "code",
   "execution_count": null,
   "id": "50902788-ae9c-4150-9709-e4d3745ff37e",
   "metadata": {},
   "outputs": [],
   "source": [
    "print(display(final_table_real_sales_scored.groupBy(\"DATE\",\"LOCAL_ID\").count().orderBy(F.col(\"count\").desc())))"
   ]
  },
  {
   "cell_type": "code",
   "execution_count": null,
   "id": "97cf03bb-f70c-4cfb-b55a-ff77eff4b12c",
   "metadata": {},
   "outputs": [],
   "source": [
    "df3 = final_table_real_sales_scored.groupBy(\"DATE\",\"LOCAL_ID\").count().orderBy(F.col(\"count\").desc())\n",
    "df3.agg(F.avg(df3[\"count\"])).collect()[0][0]"
   ]
  },
  {
   "cell_type": "code",
   "execution_count": null,
   "id": "beb4dd38-93d6-477d-a555-3dc5db4c3c27",
   "metadata": {},
   "outputs": [],
   "source": [
    "print(display(final_table_real_sales_scored.groupBy(\"LOCAL_ID\").count().orderBy(F.col(\"count\").desc()),10))"
   ]
  },
  {
   "cell_type": "code",
   "execution_count": null,
   "id": "4522f50e-375e-40b9-b1e6-140263b42077",
   "metadata": {},
   "outputs": [],
   "source": [
    "print(display(final_table_real_sales_scored.groupBy(\"LOCAL_ID\").count().orderBy(F.col(\"count\")),10))"
   ]
  },
  {
   "cell_type": "code",
   "execution_count": null,
   "id": "5710027a-da59-4d99-b685-5ea024e652be",
   "metadata": {},
   "outputs": [],
   "source": [
    "df4 = final_table_real_sales_scored.groupBy(\"LOCAL_ID\").count().orderBy(F.col(\"count\").desc())"
   ]
  },
  {
   "cell_type": "code",
   "execution_count": null,
   "id": "c5194332-58bb-496c-8183-1db1e1dd5bc6",
   "metadata": {},
   "outputs": [],
   "source": [
    "df4.agg(F.avg(df4[\"count\"])).collect()[0][0]"
   ]
  },
  {
   "cell_type": "code",
   "execution_count": null,
   "id": "341205de-a1bb-48ec-923a-f12754e5b7ee",
   "metadata": {},
   "outputs": [],
   "source": [
    "print(display(final_table_real_sales_scored.groupBy(\"DATE\").count().orderBy(F.col(\"DATE\").desc()),10))"
   ]
  },
  {
   "cell_type": "code",
   "execution_count": null,
   "id": "c152a605-3f04-4401-a5a9-5556179288b7",
   "metadata": {},
   "outputs": [],
   "source": [
    "# spark.stop()"
   ]
  },
  {
   "cell_type": "code",
   "execution_count": null,
   "id": "caebd158-319b-4184-966b-a3d2bd51dc5f",
   "metadata": {},
   "outputs": [],
   "source": []
  }
 ],
 "metadata": {
  "kernelspec": {
   "display_name": "Python 3",
   "language": "python",
   "name": "python3"
  },
  "language_info": {
   "codemirror_mode": {
    "name": "ipython",
    "version": 3
   },
   "file_extension": ".py",
   "mimetype": "text/x-python",
   "name": "python",
   "nbconvert_exporter": "python",
   "pygments_lexer": "ipython3",
   "version": "3.8.12"
  }
 },
 "nbformat": 4,
 "nbformat_minor": 5
}
